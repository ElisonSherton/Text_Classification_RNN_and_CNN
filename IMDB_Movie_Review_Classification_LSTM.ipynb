{
 "cells": [
  {
   "cell_type": "markdown",
   "metadata": {},
   "source": [
    "# Movie Review Classification using LSTM"
   ]
  },
  {
   "cell_type": "markdown",
   "metadata": {},
   "source": [
    "Keras comes with an inbuilt movie review dataset which we will use for demonstrating the use of LSTM to perform a classification task.\n",
    "\n",
    "## RNN (Recurrent Neural Networks)\n",
    "\n",
    "As we saw in the previous notebook, CNNs do not handle a stream of data sequentially but looks at it all at once. This is not the way we humans are used to dealing with sequential inputs like text. We overcome that issue by building something known as a recurrent neural network.\n",
    "\n",
    "This network's hidden layer has a connection to itself (hence the name recurrent). What this means is that the activation for a word that comes second is a function of the activation of the first word in addition to the input word itself. This helps us capture the representation of effect of old words on new words and the meaning is grasped much better just like in the case of human understanding.\n",
    "\n",
    "This concept can be well understood from the following diagram of time unfoldment of an RNN below.\n",
    "![RNN Time Unfoldment](Time_unfoldment.png)\n",
    "\n",
    "[Image Source](https://www.researchgate.net/profile/Subburam_Rajaram/publication/324680970/figure/fig1/AS:617962817986561@1524345225985/A-recurrent-neural-network-and-the-unfolding-in-time-of-the-computation-involved-in-its.png)\n",
    "\n",
    "The output may or may not be present at each time step but other units are intact.\n",
    "\n",
    "In every recurrent layer, the neurons are fully connected to themselves i.e. if we have 3 neurons in a hidden layer, we'll have 3 * 3 = 9 connections within the layer itself. There's of course a time shift i.e. in the first pass, we'll have a simple hidden layer but in the second pass, the output activations from the first pass will be influencing the outputs of the second pass and so on.\n",
    "\n",
    "**Shortcomings of an RNN**\n",
    "\n",
    "If you look at the architecture and the learning that happens using BPTT(Backpropagation Through Time), you'll realize that the task will be influenced more by the later layers in the sequence than the previous layers. \n",
    "\n",
    "As one goes deeper, the contribution of the previous neuron to the output decreases due to continuous thresholding and the compounding effect of the same. Because of this problem in forward propagation, error back-propagation also goes through a similar problem where the weight updates are hardly influenced by the words that came earlier in the sequence than those which came later. \n",
    "\n",
    "## LSTM\n",
    "\n",
    "LSTM, short for Long Short Term Memory solves this problem which we're facing above. It basically says, let's add connections from the layers in the past to those in the future (orderwise), and let the neural network learn which connections are strong and keep'em and forget the other ones. \n",
    "\n",
    "It's quite similar to how we perceive textual information as well. When we read a passage, we do it word by word. Also, if we're given a task, we tune our memory in accordance with the task.\n",
    "\n",
    "Let's say we're given a passage about the effects of global warming over the past 40 years and we're asked a question \"How did global warming affect marine ecosystems in 1984? Which events were key in the tragedy that took place?\"\n",
    "\n",
    "In order to answer that question, we'd start reading the passage and have an eye out on the word 1984 and anything that happened in that period. As we read along sentence by sentence, we'd most likely retain sentences which deal with things that happened in 1984 and forget the sentences which don't. In LSTM, to implement such an architecture, we use gates.\n",
    "\n",
    "![LSTM Gate](LSTM_Gates.png)\n",
    "\n",
    "- Write Gate (Input Gate) - Decides whether the incoming input should be considered or not.\n",
    "- Memorory Gate (Forget Gate) - Decides whether to retain the memory in subsequent step.\n",
    "- Read Gate (Output Gate) - Controls the flow of information from one cell to another\n",
    "\n",
    "The values of these gates are also learned by Neural Network and they're sigmoid activated which means they're real valued between 0 and 1. They need not necessarily be just on or off. \n",
    "\n",
    "There is another method to implement an RNN to do the same thing which LSTM does and it's called GRU (Gated Recurrent Unit). It is simpler than an LSTM and hence many applications which previously used LSTM are nowadays being replaced by GRUs.\n",
    "\n",
    "## Agenda\n",
    "\n",
    "Build a simple LSTM model to perform movie review analysis in keras' preloaded datasets. Understand the hyperparameters of an LSTM model."
   ]
  },
  {
   "cell_type": "code",
   "execution_count": 229,
   "metadata": {},
   "outputs": [],
   "source": [
    "# Matrix, vector, dataframe operations\n",
    "import numpy as np\n",
    "import pandas as pd\n",
    "\n",
    "# Plotting operations\n",
    "import matplotlib.pyplot as plt\n",
    "from matplotlib import rcParams\n",
    "import seaborn as sns\n",
    "%matplotlib inline\n",
    "\n",
    "# Classifier evaluation\n",
    "from sklearn.metrics import confusion_matrix\n",
    "\n",
    "# Data preparation\n",
    "from keras.datasets import imdb\n",
    "from keras.preprocessing.sequence import pad_sequences\n",
    "\n",
    "# Model building\n",
    "from keras.models import Model\n",
    "\n",
    "# Layers for assembling model architecture\n",
    "from keras.layers import Input, Dense, Embedding, LSTM, BatchNormalization\n",
    "\n",
    "# To set the optimizer for model\n",
    "from keras.optimizers import Adam"
   ]
  },
  {
   "cell_type": "code",
   "execution_count": 240,
   "metadata": {},
   "outputs": [],
   "source": [
    "num_epochs = 2\n",
    "learning_rate = 0.008"
   ]
  },
  {
   "cell_type": "markdown",
   "metadata": {},
   "source": [
    "# Data Preparation"
   ]
  },
  {
   "cell_type": "code",
   "execution_count": 157,
   "metadata": {},
   "outputs": [],
   "source": [
    "INDEX_FROM = 3\n",
    "no_words_consider = 10000\n",
    "(x_train, y_train), (x_test, y_test) = imdb.load_data(num_words = no_words_consider, index_from = INDEX_FROM)"
   ]
  },
  {
   "cell_type": "markdown",
   "metadata": {},
   "source": [
    "The dataset is already in integer-index form. This helps us save a lot of task for preprocessing.\n",
    "\n",
    "But for having a look at the reviews contained the data, let's reconstruct the first three of them. \n",
    "\n",
    "The `num_words` parameter imposes a limit on the number of unique words to be considered while reading the dataset.\n",
    "\n",
    "`index_from` parameter tells the loader to start indexing words in the dataset from that starting point onwards. This is done because by default keras takes 0 for padded input, 1 for start and 2 for unknown respectively."
   ]
  },
  {
   "cell_type": "code",
   "execution_count": 158,
   "metadata": {
    "code_folding": [],
    "scrolled": false
   },
   "outputs": [
    {
     "data": {
      "text/html": [
       "<div>\n",
       "<style scoped>\n",
       "    .dataframe tbody tr th:only-of-type {\n",
       "        vertical-align: middle;\n",
       "    }\n",
       "\n",
       "    .dataframe tbody tr th {\n",
       "        vertical-align: top;\n",
       "    }\n",
       "\n",
       "    .dataframe thead th {\n",
       "        text-align: right;\n",
       "    }\n",
       "</style>\n",
       "<table border=\"1\" class=\"dataframe\">\n",
       "  <thead>\n",
       "    <tr style=\"text-align: right;\">\n",
       "      <th></th>\n",
       "      <th>Reviews</th>\n",
       "      <th>Label</th>\n",
       "    </tr>\n",
       "  </thead>\n",
       "  <tbody>\n",
       "    <tr>\n",
       "      <td>0</td>\n",
       "      <td>&lt;START&gt; this film was just brilliant casting location scenery story direction everyone's really suited the part they played and you could just imagine being there robert &lt;UNK&gt; is an amazing actor and now the same being director &lt;UNK&gt; father came from the same scottish island as myself so i loved the fact there was a real connection with this film the witty remarks throughout the film were great it was just brilliant so much that i bought the film as soon as it was released for &lt;UNK&gt; and would recommend it to everyone to watch and the fly fishing was amazing really cried at the end it was so sad and you know what they say if you cry at a film it must have been good and this definitely was also &lt;UNK&gt; to the two little boy's that played the &lt;UNK&gt; of norman and paul they were just brilliant children are often left out of the &lt;UNK&gt; list i think because the stars that play them all grown up are such a big profile for the whole film but these children are amazing and should be praised for what they have done don't you think the whole story was so lovely because it was true and was someone's life after all that was shared with us all</td>\n",
       "      <td>1</td>\n",
       "    </tr>\n",
       "    <tr>\n",
       "      <td>1</td>\n",
       "      <td>&lt;START&gt; big hair big boobs bad music and a giant safety pin these are the words to best describe this terrible movie i love cheesy horror movies and i've seen hundreds but this had got to be on of the worst ever made the plot is paper thin and ridiculous the acting is an abomination the script is completely laughable the best is the end showdown with the cop and how he worked out who the killer is it's just so damn terribly written the clothes are sickening and funny in equal &lt;UNK&gt; the hair is big lots of boobs &lt;UNK&gt; men wear those cut &lt;UNK&gt; shirts that show off their &lt;UNK&gt; sickening that men actually wore them and the music is just &lt;UNK&gt; trash that plays over and over again in almost every scene there is trashy music boobs and &lt;UNK&gt; taking away bodies and the gym still doesn't close for &lt;UNK&gt; all joking aside this is a truly bad film whose only charm is to look back on the disaster that was the 80's and have a good old laugh at how bad everything was back then</td>\n",
       "      <td>0</td>\n",
       "    </tr>\n",
       "    <tr>\n",
       "      <td>2</td>\n",
       "      <td>&lt;START&gt; this has to be one of the worst films of the 1990s when my friends i were watching this film being the target audience it was aimed at we just sat watched the first half an hour with our jaws touching the floor at how bad it really was the rest of the time everyone else in the theatre just started talking to each other leaving or generally crying into their popcorn that they actually paid money they had &lt;UNK&gt; working to watch this feeble excuse for a film it must have looked like a great idea on paper but on film it looks like no one in the film has a clue what is going on crap acting crap costumes i can't get across how &lt;UNK&gt; this is to watch save yourself an hour a bit of your life</td>\n",
       "      <td>0</td>\n",
       "    </tr>\n",
       "  </tbody>\n",
       "</table>\n",
       "</div>"
      ],
      "text/plain": [
       "                                                                                                                                                                                                                                                                                                                                                                                                                                                                                                                                                                                                                                                                                                                                                                                                                                                                                                                                                                                                                                                                                                                                                                                   Reviews  \\\n",
       "0  <START> this film was just brilliant casting location scenery story direction everyone's really suited the part they played and you could just imagine being there robert <UNK> is an amazing actor and now the same being director <UNK> father came from the same scottish island as myself so i loved the fact there was a real connection with this film the witty remarks throughout the film were great it was just brilliant so much that i bought the film as soon as it was released for <UNK> and would recommend it to everyone to watch and the fly fishing was amazing really cried at the end it was so sad and you know what they say if you cry at a film it must have been good and this definitely was also <UNK> to the two little boy's that played the <UNK> of norman and paul they were just brilliant children are often left out of the <UNK> list i think because the stars that play them all grown up are such a big profile for the whole film but these children are amazing and should be praised for what they have done don't you think the whole story was so lovely because it was true and was someone's life after all that was shared with us all   \n",
       "1  <START> big hair big boobs bad music and a giant safety pin these are the words to best describe this terrible movie i love cheesy horror movies and i've seen hundreds but this had got to be on of the worst ever made the plot is paper thin and ridiculous the acting is an abomination the script is completely laughable the best is the end showdown with the cop and how he worked out who the killer is it's just so damn terribly written the clothes are sickening and funny in equal <UNK> the hair is big lots of boobs <UNK> men wear those cut <UNK> shirts that show off their <UNK> sickening that men actually wore them and the music is just <UNK> trash that plays over and over again in almost every scene there is trashy music boobs and <UNK> taking away bodies and the gym still doesn't close for <UNK> all joking aside this is a truly bad film whose only charm is to look back on the disaster that was the 80's and have a good old laugh at how bad everything was back then                                                                                                                                                                           \n",
       "2  <START> this has to be one of the worst films of the 1990s when my friends i were watching this film being the target audience it was aimed at we just sat watched the first half an hour with our jaws touching the floor at how bad it really was the rest of the time everyone else in the theatre just started talking to each other leaving or generally crying into their popcorn that they actually paid money they had <UNK> working to watch this feeble excuse for a film it must have looked like a great idea on paper but on film it looks like no one in the film has a clue what is going on crap acting crap costumes i can't get across how <UNK> this is to watch save yourself an hour a bit of your life                                                                                                                                                                                                                                                                                                                                                                                                                                                              \n",
       "\n",
       "   Label  \n",
       "0  1      \n",
       "1  0      \n",
       "2  0      "
      ]
     },
     "execution_count": 158,
     "metadata": {},
     "output_type": "execute_result"
    }
   ],
   "source": [
    "pd.set_option('display.max_colwidth', -1)\n",
    "\n",
    "# Word to index mapping\n",
    "# That dictionary I inverted assumes the word indices start from 1.\n",
    "# But the indices returned by keras have <START> and <UNKNOWN> as indexes 1 and 2. \n",
    "# (And it assumes you will use 0 for <PADDING>).\n",
    "# Hence started above by indexing words in a review from 3 onwards.\n",
    "\n",
    "word_dict = imdb.get_word_index()\n",
    "word_dict = {k:(v+INDEX_FROM) for k,v in word_dict.items()}\n",
    "word_dict[\"<PAD>\"] = 0\n",
    "word_dict[\"<START>\"] = 1\n",
    "word_dict[\"<UNK>\"] = 2\n",
    "\n",
    "\n",
    "# Index to word mapping\n",
    "word_dict = {value:key for key, value in word_dict.items()}\n",
    "\n",
    "# Container to store the reviews\n",
    "reviews = []\n",
    "\n",
    "# Recreate reviews from indices\n",
    "for i in x_train[:3]:\n",
    "    review = \"\"\n",
    "    for j in i:\n",
    "        review = review + word_dict[j] + \" \"\n",
    "    reviews.append(review.strip())\n",
    "    \n",
    "# Look at the reviews\n",
    "pd.DataFrame({\"Reviews\": reviews, \"Label\": y_train[:3]})\n",
    "\n",
    "# print(' '.join(word_dict[id] for id in x_train[0] ))"
   ]
  },
  {
   "cell_type": "code",
   "execution_count": 159,
   "metadata": {},
   "outputs": [
    {
     "data": {
      "image/png": "[encoded data removed]",
      "text/plain": [
       "<Figure size 1080x360 with 2 Axes>"
      ]
     },
     "metadata": {
      "needs_background": "light"
     },
     "output_type": "display_data"
    }
   ],
   "source": [
    "fig, ax = plt.subplots(1,2, figsize = (15,5))\n",
    "\n",
    "sns.countplot(y_train, ax = ax[0])\n",
    "ax[0].set_title(\"Train Label distribution\")\n",
    "\n",
    "sns.countplot(y_test, ax = ax[1])\n",
    "ax[1].set_title(\"Test Label distribution\")\n",
    "\n",
    "plt.show()"
   ]
  },
  {
   "cell_type": "markdown",
   "metadata": {},
   "source": [
    "It could be seen that both train and test have same number of samples and also there's 50% of each category in both of them. "
   ]
  },
  {
   "cell_type": "markdown",
   "metadata": {},
   "source": [
    "Let's observe the lengths of the reviews and their distribution. We'll have to pad all the reviews to be of the same length. "
   ]
  },
  {
   "cell_type": "code",
   "execution_count": 160,
   "metadata": {},
   "outputs": [],
   "source": [
    "review_lens_train = [len(i) for i in x_train]\n",
    "review_lens_test = [len(i) for i in x_test]\n",
    "review_lens = review_lens_train + review_lens_test"
   ]
  },
  {
   "cell_type": "code",
   "execution_count": 161,
   "metadata": {},
   "outputs": [
    {
     "name": "stdout",
     "output_type": "stream",
     "text": [
      "The review with maximum number of words is 2494 words long\n",
      "The review with minimum number of words is 7 words long\n"
     ]
    }
   ],
   "source": [
    "print(f\"The review with maximum number of words is {max(review_lens)} words long\")\n",
    "print(f\"The review with minimum number of words is {min(review_lens)} words long\")"
   ]
  },
  {
   "cell_type": "code",
   "execution_count": 162,
   "metadata": {},
   "outputs": [
    {
     "data": {
      "image/png": "[encoded data removed]",
      "text/plain": [
       "<Figure size 720x360 with 1 Axes>"
      ]
     },
     "metadata": {
      "needs_background": "light"
     },
     "output_type": "display_data"
    }
   ],
   "source": [
    "rcParams['figure.figsize'] = 10, 5\n",
    "sns.distplot(review_lens, kde = True, hist = False)\n",
    "plt.xticks(rotation = 90)\n",
    "plt.xlabel(\"Lengths of  reviews\")\n",
    "plt.ylabel(\"Count of lenngths\")\n",
    "plt.show()"
   ]
  },
  {
   "cell_type": "markdown",
   "metadata": {},
   "source": [
    "It could be seen that most of the reviews are of length 500 or smaller. Let's set that to be our maximum number of elements per review. Those which are shorter in length will be padded with 0s and those which are longer in length will be truncated to 500 words only. "
   ]
  },
  {
   "cell_type": "code",
   "execution_count": 163,
   "metadata": {},
   "outputs": [],
   "source": [
    "Max_review_len = 500"
   ]
  },
  {
   "cell_type": "code",
   "execution_count": 164,
   "metadata": {},
   "outputs": [],
   "source": [
    "x_train = pad_sequences(x_train, maxlen = Max_review_len, padding = 'post')\n",
    "x_test = pad_sequences(x_test, maxlen = Max_review_len, padding = 'post')"
   ]
  },
  {
   "cell_type": "code",
   "execution_count": 165,
   "metadata": {},
   "outputs": [
    {
     "data": {
      "text/plain": [
       "((25000, 500), (25000, 500))"
      ]
     },
     "execution_count": 165,
     "metadata": {},
     "output_type": "execute_result"
    }
   ],
   "source": [
    "# Check the dimensions of x_train and x_test\n",
    "x_train.shape, x_test.shape "
   ]
  },
  {
   "cell_type": "markdown",
   "metadata": {},
   "source": [
    "# Model Building"
   ]
  },
  {
   "cell_type": "markdown",
   "metadata": {},
   "source": [
    "We are building two LSTM layers in the model.\n",
    "\n",
    "LSTM layer parameters:\n",
    "\n",
    "- go_backwards: Start reading from right to left, bottom to top\n",
    "\n",
    "- return_sequences: Whether to return the last output in the output sequence, or the full sequence. In case the subsequent layers are also LSTM layers or recurrent layers, we'll need to make this parameter True. By default it's False.\n",
    "\n",
    "- dropout - Fraction of the units to drop for the linear transformation of the inputs. i.e. what % of neurons should be killed in the layer.\n",
    "\n",
    "- recurrent_dropout - How many neurons need to be dropped out in the recurrent connections? \n",
    "\n",
    "- activation - By default it's tanh, if you give None, it'll apply unit activation else, you can select whatever you want.\n",
    "\n",
    "- recurrent_activation - hard_sigmoid (Non-differentiable simpler (i.e. piecewise linear etc.) approximation of sigmoid).\n",
    "\n",
    "Other hyperparameters like kernel_initializer, use_bias, bias_initializer etc. still remain which are native to any neural network architecture. [Refer here](https://keras.io/layers/recurrent/#lstm) to know more about these parameters.\n",
    "\n",
    "I have defined the model using both `Functional` and `Sequential` API below in order to show some changes which need to be done while defining the `Input` layer in `Functional` layer. "
   ]
  },
  {
   "cell_type": "code",
   "execution_count": 230,
   "metadata": {},
   "outputs": [],
   "source": [
    "d = 100\n",
    "\n",
    "# Building an LSTM model\n",
    "model1 = Sequential([\n",
    "    Embedding(input_dim = no_words_consider, input_length = Max_review_len, output_dim = d),\n",
    "    LSTM(20, return_sequences = True, dropout = 0.2),\n",
    "    LSTM(5, return_sequences = False, dropout = 0.2),\n",
    "    Dense(1, activation = 'sigmoid')\n",
    "]\n",
    ") "
   ]
  },
  {
   "cell_type": "code",
   "execution_count": 231,
   "metadata": {},
   "outputs": [
    {
     "name": "stdout",
     "output_type": "stream",
     "text": [
      "Model: \"sequential_12\"\n",
      "_________________________________________________________________\n",
      "Layer (type)                 Output Shape              Param #   \n",
      "=================================================================\n",
      "embedding_12 (Embedding)     (None, 500, 100)          1000000   \n",
      "_________________________________________________________________\n",
      "lstm_23 (LSTM)               (None, 500, 20)           9680      \n",
      "_________________________________________________________________\n",
      "lstm_24 (LSTM)               (None, 5)                 520       \n",
      "_________________________________________________________________\n",
      "dense_17 (Dense)             (None, 1)                 6         \n",
      "=================================================================\n",
      "Total params: 1,010,206\n",
      "Trainable params: 1,010,206\n",
      "Non-trainable params: 0\n",
      "_________________________________________________________________\n"
     ]
    }
   ],
   "source": [
    "model1.summary()"
   ]
  },
  {
   "cell_type": "code",
   "execution_count": 234,
   "metadata": {
    "scrolled": false
   },
   "outputs": [],
   "source": [
    "# For creating 50-D word vector embeddings, initialize d to 50\n",
    "d = 100\n",
    "\n",
    "# Define the input layer\n",
    "# Input is a sequence of 500 hence, shape will be a 500 dimension vector\n",
    "ip = Input(shape = (Max_review_len, ), name = \"Ip\")\n",
    "\n",
    "# Connect an embedding layer which creates embeddings for words from the corpus\n",
    "# Embedding input_dim = vocabulary size or any arbit size you've chosen\n",
    "# output_dim is the number of dimensions with which you wanna represent your individual word\n",
    "emb = Embedding(input_dim = no_words_consider, output_dim = d, name = \"Embd\")(ip)\n",
    "\n",
    "# Connect an LSTM Layer with 15 hidden neurons and a dropout rate of 20% for regularization\n",
    "ls1 =  LSTM(20, return_sequences = True, dropout = 0.2, name = \"Ls1\")(emb)\n",
    "\n",
    "# Add a batch normalization layer for faster computation and to incorporate regularization\n",
    "BN = BatchNormalization(name = \"BN1\")(ls1)\n",
    "\n",
    "# Connect an LSTM Layer with 6 hidden neurons and a dropout rate of 20% for regularization\n",
    "ls2 =  LSTM(6, dropout = 0.2, name = \"Ls2\")(BN)\n",
    "\n",
    "# Add a batch normalization layer for faster computation and to incorporate regularization\n",
    "BN2 = BatchNormalization(name = \"BN2\")(ls2)\n",
    "\n",
    "# Connect an output neuron for the ML task i.e. classification\n",
    "op = Dense(1, activation = 'sigmoid', name = \"Op\")(BN2)\n",
    "\n",
    "# Initialize the model using Functional API\n",
    "model = Model(ip, op)"
   ]
  },
  {
   "cell_type": "code",
   "execution_count": 235,
   "metadata": {},
   "outputs": [
    {
     "name": "stdout",
     "output_type": "stream",
     "text": [
      "Model: \"model_19\"\n",
      "_________________________________________________________________\n",
      "Layer (type)                 Output Shape              Param #   \n",
      "=================================================================\n",
      "Ip (InputLayer)              (None, 500)               0         \n",
      "_________________________________________________________________\n",
      "Embd (Embedding)             (None, 500, 100)          1000000   \n",
      "_________________________________________________________________\n",
      "Ls1 (LSTM)                   (None, 500, 20)           9680      \n",
      "_________________________________________________________________\n",
      "BN1 (BatchNormalization)     (None, 500, 20)           80        \n",
      "_________________________________________________________________\n",
      "Ls2 (LSTM)                   (None, 6)                 648       \n",
      "_________________________________________________________________\n",
      "BN2 (BatchNormalization)     (None, 6)                 24        \n",
      "_________________________________________________________________\n",
      "Op (Dense)                   (None, 1)                 7         \n",
      "=================================================================\n",
      "Total params: 1,010,439\n",
      "Trainable params: 1,010,387\n",
      "Non-trainable params: 52\n",
      "_________________________________________________________________\n"
     ]
    }
   ],
   "source": [
    "model.summary()"
   ]
  },
  {
   "cell_type": "code",
   "execution_count": 241,
   "metadata": {
    "scrolled": true
   },
   "outputs": [],
   "source": [
    "model.compile(loss = 'binary_crossentropy', optimizer = Adam(lr = learning_rate), metrics = ['accuracy'])"
   ]
  },
  {
   "cell_type": "code",
   "execution_count": 242,
   "metadata": {},
   "outputs": [
    {
     "name": "stdout",
     "output_type": "stream",
     "text": [
      "Train on 20000 samples, validate on 5000 samples\n",
      "Epoch 1/2\n",
      "20000/20000 [==============================] - 259s 13ms/step - loss: 0.6932 - accuracy: 0.5088\n",
      "Epoch 2/2\n",
      "20000/20000 [==============================] - 274s 14ms/step - loss: 0.6748 - accuracy: 0.5505 - val_loss: 0.6588 - val_accuracy: 0.6150\n"
     ]
    },
    {
     "data": {
      "text/plain": [
       "<keras.callbacks.callbacks.History at 0x2a7fdc3dbe0>"
      ]
     },
     "execution_count": 242,
     "metadata": {},
     "output_type": "execute_result"
    }
   ],
   "source": [
    "model.fit(x_train, y_train, validation_split = 0.2,\n",
    "         validation_freq = 2, epochs = num_epochs)"
   ]
  },
  {
   "cell_type": "markdown",
   "metadata": {},
   "source": [
    "# Model Evaluation"
   ]
  },
  {
   "cell_type": "code",
   "execution_count": 243,
   "metadata": {},
   "outputs": [],
   "source": [
    "def evaluate_performance(y_true, y_pred, title, labels):    \n",
    "    data = confusion_matrix(y_true, y_pred)\n",
    "    data = pd.DataFrame(data/np.sum(data), index = labels, columns = labels)\n",
    "    print(data)\n",
    "    akws = {\"ha\": 'center',\"va\": 'center', 'size':15}\n",
    "    sns.heatmap(data, annot = True, annot_kws=akws)\n",
    "    plt.suptitle(title)\n",
    "    plt.xticks(rotation = 90); plt.yticks(rotation = 0)\n",
    "    plt.show()"
   ]
  },
  {
   "cell_type": "code",
   "execution_count": 255,
   "metadata": {},
   "outputs": [
    {
     "name": "stdout",
     "output_type": "stream",
     "text": [
      "Performance on Train data\n",
      "\n",
      "          Negative  Positive\n",
      "Negative  0.19808   0.30192 \n",
      "Positive  0.06492   0.43508 \n"
     ]
    },
    {
     "data": {
      "image/png": "[encoded data removed]",
      "text/plain": [
       "<Figure size 432x288 with 2 Axes>"
      ]
     },
     "metadata": {
      "needs_background": "light"
     },
     "output_type": "display_data"
    },
    {
     "name": "stdout",
     "output_type": "stream",
     "text": [
      "Performance on Test data\n",
      "\n",
      "          Negative  Positive\n",
      "Negative  0.18852   0.31148 \n",
      "Positive  0.06904   0.43096 \n"
     ]
    },
    {
     "data": {
      "image/png": "[encoded data removed]",
      "text/plain": [
       "<Figure size 432x288 with 2 Axes>"
      ]
     },
     "metadata": {
      "needs_background": "light"
     },
     "output_type": "display_data"
    }
   ],
   "source": [
    "print(\"Performance on Train data\\n\")\n",
    "\n",
    "y_pred_train = np.where(model.predict(x_train)>0.5, 1, 0)\n",
    "evaluate_performance(y_train, y_pred_train, title = 'Train Performance',\n",
    "                     labels = ['Negative', 'Positive'])\n",
    "\n",
    "print(\"Performance on Test data\\n\")\n",
    "y_pred_test = np.where(model.predict(x_test)>0.5, 1, 0)\n",
    "evaluate_performance(y_test, y_pred_test, title = 'Test Performance',\n",
    "                     labels = ['Negative', 'Positive'])"
   ]
  },
  {
   "cell_type": "markdown",
   "metadata": {},
   "source": [
    "# Conclusion"
   ]
  },
  {
   "cell_type": "markdown",
   "metadata": {},
   "source": [
    "In this repo, we observed the need for a new architecture to deal with text and why CNNs aren't all that great at dealing with text from an intuitive standpoint. \n",
    "\n",
    "The use of 1D Convolution to deal with text data and also LSTM as a better alternative was demonstrated using two different datasets namely the spam-ham-info dataset which is provided in this repo and the keras' preloaded imdb movie ratings dataset.\n",
    "\n",
    "**NOTE: I trained this dataset only for 2 epochs but if you train it for more epochs and do some regularization like BatchNormalization and Dropout, you are likely to get better and faster results**.\n",
    "\n",
    "Happy experimenting!!"
   ]
  }
 ],
 "metadata": {
  "kernelspec": {
   "display_name": "Python 3",
   "language": "python",
   "name": "python3"
  },
  "language_info": {
   "codemirror_mode": {
    "name": "ipython",
    "version": 3
   },
   "file_extension": ".py",
   "mimetype": "text/x-python",
   "name": "python",
   "nbconvert_exporter": "python",
   "pygments_lexer": "ipython3",
   "version": "3.6.8"
  },
  "latex_envs": {
   "LaTeX_envs_menu_present": true,
   "autoclose": false,
   "autocomplete": true,
   "bibliofile": "biblio.bib",
   "cite_by": "apalike",
   "current_citInitial": 1,
   "eqLabelWithNumbers": true,
   "eqNumInitial": 1,
   "hotkeys": {
    "equation": "Ctrl-E",
    "itemize": "Ctrl-I"
   },
   "labels_anchors": false,
   "latex_user_defs": false,
   "report_style_numbering": false,
   "user_envs_cfg": false
  },
  "toc": {
   "base_numbering": 1,
   "nav_menu": {},
   "number_sections": true,
   "sideBar": true,
   "skip_h1_title": false,
   "title_cell": "Table of Contents",
   "title_sidebar": "Contents",
   "toc_cell": false,
   "toc_position": {},
   "toc_section_display": true,
   "toc_window_display": false
  }
 },
 "nbformat": 4,
 "nbformat_minor": 2
}
