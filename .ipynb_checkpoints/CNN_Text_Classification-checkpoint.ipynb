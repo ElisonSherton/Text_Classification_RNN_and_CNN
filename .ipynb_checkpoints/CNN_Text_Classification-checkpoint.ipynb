{
 "cells": [
  {
   "cell_type": "markdown",
   "metadata": {},
   "source": [
    "# Spam-ham-info classification using CNN"
   ]
  },
  {
   "cell_type": "markdown",
   "metadata": {},
   "source": [
    "Why CNNs generally don't tend to do better at text classification and the need for a better architecture or a better representation is justified?\n",
    "\n",
    "## Human interpretation of text\n",
    "\n",
    "When a human like you or me or anyone is given a piece of text, we read it word by word left to right top to bottom.\n",
    "\n",
    "As we span through a sentence, we remember the previous words upto a certain length and every subsequent word in a sentence helps us understand more about that word and many others which occurred before it. Based on the task at hand, we forget the sentence we read as we go to a new one or keep it in our memory to connect it with something later.\n",
    "\n",
    "This is a supremely complex task to ask a Computer to do because there's reading, writing, erasing of memory and simultaneously interpretation of the sentences which are read before. The human brain surely needs to be credited to do such tasks so effortlessly and yet not boast of it's capabilities. \n",
    "\n",
    "![Attention Span](attention_span.png)\n",
    "\n",
    "[Image Source](https://www.explainxkcd.com/wiki/images/e/e4/attention_span.png)\n",
    "\n",
    "## Human interpretation of images\n",
    "\n",
    "When we see an image, we observe it all at once (well, if it's too big we observe it in parts but let's roll with the overall viewing hypothesis for now). That's how evolution worked it's way out and figured vision to be best optimized when we do it this way. There's a bunch of neurons which are locally connected and they're in turn connected locally to another higher layer which are connected to another higher layer and so on and it helps us comprehend images much faster and in a much more generalized way than having all neurons connected to all other neurons. \n",
    "\n",
    "After [Huber and Wiesel figured this out](https://knowingneurons.com/2014/10/29/hubel-and-wiesel-the-neural-basis-of-visual-perception/), taking inspiration from the working of a human brain's visual cortex, CNNs were built to make computers understand images and it did work wonders!\n",
    "\n",
    "![CNN Biological Inspiration](CNN_biological_inspiration.png)\n",
    "\n",
    "[Image Source](https://knowingneurons.com/2014/10/29/hubel-and-wiesel-the-neural-basis-of-visual-perception/)\n",
    "\n",
    "The image above gives a brief understanding of how the idea for CNNs was inspired by the functioning of vision in human brain.\n",
    "\n",
    "## Images vs text\n",
    "\n",
    "From the above discussions it could be observed that the primary difference which makes text difficult to deal with compared to images is the way it's interpreted. Both of them images and text have spatial dependencies but **in text, there are prominent long and short term dependencies which in images is mostly not the case.**\n",
    "\n",
    "Also, images, an image by itself as a combination of pixels doesn't need to be analyzed conditionally at every pixel level. What I mean by that is, we check for patterns in an image and if we find them it's a match otherwise it's not. But in text, where words are analogous to pixels (quantum of study), a word which appears now may influence a word which appears 100 words down the line. \n",
    "\n",
    "For eg. If I say I grew up in Mumbai and follow it up stories from my childhood for the next 100 words and then I say I speek fluent \\__________, the language that fills the blank depends on where I grew up which appeared 100 words before in the text.\n",
    "\n",
    "This is very difficult and not so efficient to do with CNNs. We will have to have different sized kernels in a single layer for capturing these dependencies but how many such kernels would be needed? \n",
    "\n",
    "They will exponentially explode by the time we reach 2nd layer or so.\n",
    "\n",
    "Even if we take huge kernels all homogeneous, it will not serve the our purpose because the model will simply have too much capacity and it'll overfit.\n",
    "\n",
    " CNN can therefore only capture short term dependencies with small window/filter sizes in this context. We will look at an architecture which overcomes this problem in the next notebook in this repository. \n",
    " \n",
    "# Agenda/ Task\n",
    "\n",
    "**Demonstrate use of CNN for text classification using keras with tensorflow as backend**\n",
    "\n",
    "I will be using a dataset containing text belonging to three categories: spam, ham and info.\n",
    "\n",
    "*Spam* -[Wikitionery defines Spam as](https://en.wikipedia.org/wiki/Spamming) the use of electronic messaging systems to send unsolicited bulk messages, especially advertising, indiscriminately\n",
    "\n",
    "*Ham* - [Wikitionery defines it as](https://en.wiktionary.org/wiki/ham_e-mail) E-mail that is generally desired and isn't considered spam.\n",
    "\n",
    "Info is self explanatory."
   ]
  },
  {
   "cell_type": "code",
   "execution_count": 95,
   "metadata": {},
   "outputs": [],
   "source": [
    "# For matrix and data manipulation operations\n",
    "import numpy as np\n",
    "import pandas as pd\n",
    "\n",
    "# For visualization\n",
    "import matplotlib.pyplot as plt\n",
    "from matplotlib import rcParams\n",
    "import seaborn as sns\n",
    "%matplotlib inline\n",
    "\n",
    "# For evaluation of model\n",
    "from sklearn.metrics import multilabel_confusion_matrix\n",
    "\n",
    "# For mapping text to integer indices\n",
    "from sklearn.preprocessing import LabelEncoder"
   ]
  },
  {
   "cell_type": "code",
   "execution_count": 69,
   "metadata": {},
   "outputs": [],
   "source": [
    "# For preprocessing\n",
    "from keras.preprocessing.text import Tokenizer\n",
    "\n",
    "# For padding the sequences\n",
    "from keras.preprocessing.sequence import pad_sequences\n",
    "\n",
    "# For one-hot encoding categorical variables\n",
    "from keras.utils import to_categorical\n",
    "\n",
    "# For model building\n",
    "from keras.models import Sequential\n",
    "\n",
    "# For defining the model architecture\n",
    "from keras.layers import Conv1D, Embedding, Flatten, Dense, Dropout, MaxPooling1D"
   ]
  },
  {
   "cell_type": "code",
   "execution_count": 19,
   "metadata": {},
   "outputs": [],
   "source": [
    "# Read the data\n",
    "train_data = pd.read_csv(\"train.csv\", encoding = 'latin1')\n",
    "test_data = pd.read_csv(\"test.csv\", encoding = 'latin1')"
   ]
  },
  {
   "cell_type": "code",
   "execution_count": 20,
   "metadata": {},
   "outputs": [
    {
     "data": {
      "text/html": [
       "<div>\n",
       "<style scoped>\n",
       "    .dataframe tbody tr th:only-of-type {\n",
       "        vertical-align: middle;\n",
       "    }\n",
       "\n",
       "    .dataframe tbody tr th {\n",
       "        vertical-align: top;\n",
       "    }\n",
       "\n",
       "    .dataframe thead th {\n",
       "        text-align: right;\n",
       "    }\n",
       "</style>\n",
       "<table border=\"1\" class=\"dataframe\">\n",
       "  <thead>\n",
       "    <tr style=\"text-align: right;\">\n",
       "      <th></th>\n",
       "      <th>Label</th>\n",
       "      <th>Message</th>\n",
       "    </tr>\n",
       "  </thead>\n",
       "  <tbody>\n",
       "    <tr>\n",
       "      <td>0</td>\n",
       "      <td>ham</td>\n",
       "      <td>oh how abt 2 days before Christmas</td>\n",
       "    </tr>\n",
       "    <tr>\n",
       "      <td>1</td>\n",
       "      <td>info</td>\n",
       "      <td>Welcome to OVATION HOLD R.No. 184, 114, 395, 378 Ch.In 2014-10-21 3:53 Ch.out 2014-11-01 12:00.</td>\n",
       "    </tr>\n",
       "    <tr>\n",
       "      <td>2</td>\n",
       "      <td>info</td>\n",
       "      <td>Thank you for using your ICICI bank CREDITcard ending 5253 for Rs. 2520.00 in ALIKE at Snapdeal on 2013-05-31 21:35</td>\n",
       "    </tr>\n",
       "    <tr>\n",
       "      <td>3</td>\n",
       "      <td>ham</td>\n",
       "      <td>schedule a meeting with the entire team in the office tomorrow</td>\n",
       "    </tr>\n",
       "    <tr>\n",
       "      <td>4</td>\n",
       "      <td>ham</td>\n",
       "      <td>Tommy is my brother</td>\n",
       "    </tr>\n",
       "  </tbody>\n",
       "</table>\n",
       "</div>"
      ],
      "text/plain": [
       "  Label  \\\n",
       "0  ham    \n",
       "1  info   \n",
       "2  info   \n",
       "3  ham    \n",
       "4  ham    \n",
       "\n",
       "                                                                                                               Message  \n",
       "0  oh how abt 2 days before Christmas                                                                                   \n",
       "1  Welcome to OVATION HOLD R.No. 184, 114, 395, 378 Ch.In 2014-10-21 3:53 Ch.out 2014-11-01 12:00.                      \n",
       "2  Thank you for using your ICICI bank CREDITcard ending 5253 for Rs. 2520.00 in ALIKE at Snapdeal on 2013-05-31 21:35  \n",
       "3  schedule a meeting with the entire team in the office tomorrow                                                       \n",
       "4  Tommy is my brother                                                                                                  "
      ]
     },
     "execution_count": 20,
     "metadata": {},
     "output_type": "execute_result"
    }
   ],
   "source": [
    "train_data.head()"
   ]
  },
  {
   "cell_type": "code",
   "execution_count": 29,
   "metadata": {},
   "outputs": [
    {
     "data": {
      "image/png": "[encoded data removed]",
      "text/plain": [
       "<Figure size 1080x360 with 2 Axes>"
      ]
     },
     "metadata": {
      "needs_background": "light"
     },
     "output_type": "display_data"
    }
   ],
   "source": [
    "fig, ax = plt.subplots(1, 2, figsize = (15,5))\n",
    "sns.countplot(train_data.Label, ax = ax[0])\n",
    "ax[0].set_title('Train data distribution')\n",
    "\n",
    "sns.countplot(test_data.Label, ax = ax[1])\n",
    "ax[1].set_title('Test data distribution')\n",
    "plt.show()"
   ]
  },
  {
   "cell_type": "markdown",
   "metadata": {},
   "source": [
    "# Data Preparation\n",
    "\n",
    "Keras requires the data to be in a certain format before building a model and training it. \n",
    "\n",
    "`Tokenizer` is a class which helps tokenize words from the corpus and represent them in the form of integer indices. While instantiating this class, you can specify the maximum number of words which you want to consider. If there are more words, then keras will keep only the number of words equal to maximum number of words based on **word frequency**. There are some default parameters which all fit our purpose so, I'm not changing them. You can look at them [here](https://keras.io/preprocessing/text/).\n",
    "\n",
    "`fit_on_texts` method from the `Tokenizer` object helps to create the word vocabulary\n",
    "\n",
    "`texts_to_sequences` method can be called after fitting the Tokenizer on the text corpus and converts each sentence into integer index array.\n",
    "\n",
    "Next, keras needs the input sentences to be all of the same length. There are two ways to achieve this:\n",
    "\n",
    "- Either find the sentence with max length and pad every other sentence to match its length\n",
    "- Or arbit define a max length and scale every sentence to that length. This will pad the shorter and truncate the longer sentences (base length - user defined max length).\n",
    "\n",
    "We'll use the second method. I've implemented the first method in another jupyter notebook from [this classification example using word embeddings](https://github.com/ElisonSherton/Word_Embeddings_in_Keras). You can check that out if you'd like."
   ]
  },
  {
   "cell_type": "code",
   "execution_count": 32,
   "metadata": {},
   "outputs": [],
   "source": [
    "# Arbitrarily consider maximum words as 30k and max length of a sentence to be 250\n",
    "Max_words = 30000\n",
    "Max_sentence_length = 250"
   ]
  },
  {
   "cell_type": "code",
   "execution_count": 44,
   "metadata": {},
   "outputs": [],
   "source": [
    "Tk = Tokenizer(num_words = Max_words)\n",
    "\n",
    "# Fit on the train corpus\n",
    "Tk.fit_on_texts(train_data.Message)\n",
    "\n",
    "# Get the integer sequences\n",
    "seq_train = Tk.texts_to_sequences(train_data.Message)\n",
    "seq_test = Tk.texts_to_sequences(test_data.Message)\n",
    "\n",
    "# Pad the sequences or truncate if necessary\n",
    "# Pad values post the sequence if it's shorter than 250 words long\n",
    "pad_train = pad_sequences(seq_train, maxlen = Max_sentence_length, padding = \"post\")\n",
    "pad_test = pad_sequences(seq_test, maxlen = Max_sentence_length, padding = \"post\")"
   ]
  },
  {
   "cell_type": "code",
   "execution_count": 42,
   "metadata": {
    "scrolled": true
   },
   "outputs": [
    {
     "name": "stdout",
     "output_type": "stream",
     "text": [
      "There are 38393 number of unique words that appear in the corpus and we're only considering 30000 number of words based on the most frequently occuring words\n",
      "\n",
      "The top 10 words with their wordcounts are as follows:\n",
      "for 18686\n",
      "your 15182\n",
      "at 12313\n",
      "on 11836\n",
      "is 10770\n",
      "the 8981\n",
      "to 8388\n",
      "you 7629\n",
      "in 6008\n",
      "of 5096\n"
     ]
    }
   ],
   "source": [
    "# Let's investigate the number of unique words found and the indices assigned by Tokenizer\n",
    "\n",
    "w = Tk.word_index\n",
    "print(f\"There are {len(w)} number of unique words that appear in the corpus and we're only considering {Max_words} number of words based on the most frequently occuring words\")\n",
    "\n",
    "print(\"\\nThe top 10 words with their wordcounts are as follows:\")\n",
    "\n",
    "top_10 = sorted(Tk.word_counts, key = lambda x:Tk.word_counts[x], reverse = True)[:10]\n",
    "top_10_freq = [Tk.word_counts[x] for x in top_10]\n",
    "\n",
    "for i, j in zip(top_10, top_10_freq):\n",
    "    print(i, j)"
   ]
  },
  {
   "cell_type": "code",
   "execution_count": 45,
   "metadata": {},
   "outputs": [
    {
     "data": {
      "text/plain": [
       "array([[ 651,  474, 1026, ...,    0,    0,    0],\n",
       "       [ 168,    7, 7036, ...,    0,    0,    0],\n",
       "       [  30,    8,    1, ...,    0,    0,    0],\n",
       "       [ 154,   12,  250, ...,    0,    0,    0],\n",
       "       [5386,    5,  246, ...,    0,    0,    0]])"
      ]
     },
     "execution_count": 45,
     "metadata": {},
     "output_type": "execute_result"
    }
   ],
   "source": [
    "# Let's view the padded train documents from above\n",
    "pad_train[:5]"
   ]
  },
  {
   "cell_type": "markdown",
   "metadata": {},
   "source": [
    "We need to first convert spam, ham and info into integer representations and then one-hot encode them to feed them to the Neural Network model. "
   ]
  },
  {
   "cell_type": "code",
   "execution_count": 49,
   "metadata": {},
   "outputs": [
    {
     "name": "stdout",
     "output_type": "stream",
     "text": [
      "['ham' 'info' 'spam']\n",
      "(array([0, 1, 2]), array([ 9666, 12916,  6418], dtype=int64))\n",
      "(array([0, 1, 2]), array([334, 459, 207], dtype=int64))\n"
     ]
    }
   ],
   "source": [
    "le = LabelEncoder().fit(train_data.Label)\n",
    "train_labels = le.transform(train_data.Label)\n",
    "test_labels = le.transform(test_data.Label)\n",
    "\n",
    "print(le.classes_)\n",
    "print(np.unique(train_labels, return_counts = True))\n",
    "print(np.unique(test_labels, return_counts = True))"
   ]
  },
  {
   "cell_type": "code",
   "execution_count": 50,
   "metadata": {},
   "outputs": [],
   "source": [
    "train_labels = to_categorical(np.asarray(train_labels))\n",
    "test_labels = to_categorical(np.asarray(test_labels))"
   ]
  },
  {
   "cell_type": "code",
   "execution_count": 51,
   "metadata": {},
   "outputs": [
    {
     "data": {
      "text/plain": [
       "array([[1., 0., 0.],\n",
       "       [0., 1., 0.],\n",
       "       [0., 1., 0.]], dtype=float32)"
      ]
     },
     "execution_count": 51,
     "metadata": {},
     "output_type": "execute_result"
    }
   ],
   "source": [
    "train_labels[:3]"
   ]
  },
  {
   "cell_type": "markdown",
   "metadata": {},
   "source": [
    "We can see we've converted out labels into one hot encoded vectors with '0' representing ham, '1' representing info and '2' representing spam respectively. "
   ]
  },
  {
   "cell_type": "code",
   "execution_count": 55,
   "metadata": {},
   "outputs": [],
   "source": [
    "lengths = [len(i) for i in seq_train]"
   ]
  },
  {
   "cell_type": "code",
   "execution_count": 62,
   "metadata": {},
   "outputs": [
    {
     "data": {
      "image/png": "[encoded data removed]",
      "text/plain": [
       "<Figure size 1080x360 with 1 Axes>"
      ]
     },
     "metadata": {
      "needs_background": "light"
     },
     "output_type": "display_data"
    }
   ],
   "source": [
    "sentence_lengths = np.unique(lengths, return_counts=True)\n",
    "ln = sentence_lengths[0]\n",
    "count = sentence_lengths[1]\n",
    "rcParams['figure.figsize'] = 15,5\n",
    "sns.barplot(x = ln, y = count)\n",
    "plt.xlabel('Sentence Lengths')\n",
    "plt.ylabel('Count of sentences with given lengths')\n",
    "plt.title('Lengthwise distribution of sentences')\n",
    "plt.xticks(rotation = 90)\n",
    "plt.show()"
   ]
  },
  {
   "cell_type": "markdown",
   "metadata": {},
   "source": [
    "We see that there are no sentences which have a length of more than 138 words. This means that we're unnecessarily padding the sentences to make their length 250. Let's rectify this and let's set the max length of a sentence to 100 and recompute the pad_train and pad_test sequences."
   ]
  },
  {
   "cell_type": "code",
   "execution_count": 63,
   "metadata": {},
   "outputs": [],
   "source": [
    "Max_sentence_length = 100\n",
    "\n",
    "# Pad the sequences or truncate if necessary\n",
    "# Pad values post the sequence if it's shorter than 100 words long\n",
    "pad_train = pad_sequences(seq_train, maxlen = Max_sentence_length, padding = \"post\")\n",
    "pad_test = pad_sequences(seq_test, maxlen = Max_sentence_length, padding = \"post\")"
   ]
  },
  {
   "cell_type": "markdown",
   "metadata": {},
   "source": [
    "Now we're ready to build our model as our data is in shape and ready to be fed to the model for training. "
   ]
  },
  {
   "cell_type": "markdown",
   "metadata": {},
   "source": [
    "# Model Architecture"
   ]
  },
  {
   "cell_type": "markdown",
   "metadata": {},
   "source": [
    "Convolution on a sentence/passage comprising of text is a 1-D operation. Why?\n",
    "\n",
    "Every word in a sentence will be represented as a word embedding vector and we will get a sentence matrix of s * d dimensions. Here s = 100, since we're making every sentence 100 words long and d is the embedding dimension which we can arbit decide. \n",
    "\n",
    "But the key thing here is that although we have a matrix, we want to convolve only along the height and not the width. This is because each vector is representative of one word. That vector together defines a quantum of our input. Convolving widthwise will have some unintended unknown consequences. Hence it's essential to have a Conv1D layer instead of a Conv2D layer to perform this task. The image below helps understand this better.\n",
    "\n",
    "![1-Dimensional Convolution along text](1d_Convolution.png)\n",
    "\n",
    "[Image Source](https://missinglink.ai/wp-content/uploads/2019/03/1D-convolutional-example_2x.png)\n",
    "\n",
    "Apart from this, everything else remains the same. We still have subsampling layers like MaxPooling1D to perform dimensionality reduction and also fully connected layers at end to do classification based on the extracted feature hierarchies. "
   ]
  },
  {
   "cell_type": "code",
   "execution_count": 70,
   "metadata": {},
   "outputs": [],
   "source": [
    "embedding_dim = 50\n",
    "\n",
    "model = Sequential()\n",
    "model.add(Embedding(Max_words,\n",
    "                    embedding_dim,\n",
    "                    input_length = Max_sentence_length\n",
    "                    ))\n",
    "# Adding 64 filters to identify relationships\n",
    "# Kernel size is 5 followed by ReLU activation\n",
    "model.add(Conv1D(64, 5, activation='relu'))\n",
    "\n",
    "# Adding another Convolutional layer with 128 filters\n",
    "model.add(Conv1D(128, 5, activation='relu'))\n",
    "\n",
    "# Subsampling using max-pooling operation\n",
    "model.add(MaxPooling1D(pool_size = 2))\n",
    "\n",
    "# Flattening the input received from above\n",
    "model.add(Flatten())\n",
    "\n",
    "# Adding a fully connected layer for classification purposes\n",
    "model.add(Dense(128, activation='relu'))\n",
    "\n",
    "# Output layer for multi-class classification\n",
    "model.add(Dense(3, activation='softmax'))"
   ]
  },
  {
   "cell_type": "code",
   "execution_count": 71,
   "metadata": {},
   "outputs": [
    {
     "name": "stdout",
     "output_type": "stream",
     "text": [
      "Model: \"sequential_4\"\n",
      "_________________________________________________________________\n",
      "Layer (type)                 Output Shape              Param #   \n",
      "=================================================================\n",
      "embedding_4 (Embedding)      (None, 100, 50)           1500000   \n",
      "_________________________________________________________________\n",
      "conv1d_7 (Conv1D)            (None, 96, 64)            16064     \n",
      "_________________________________________________________________\n",
      "conv1d_8 (Conv1D)            (None, 92, 128)           41088     \n",
      "_________________________________________________________________\n",
      "max_pooling1d_4 (MaxPooling1 (None, 46, 128)           0         \n",
      "_________________________________________________________________\n",
      "flatten_4 (Flatten)          (None, 5888)              0         \n",
      "_________________________________________________________________\n",
      "dense_7 (Dense)              (None, 128)               753792    \n",
      "_________________________________________________________________\n",
      "dense_8 (Dense)              (None, 3)                 387       \n",
      "=================================================================\n",
      "Total params: 2,311,331\n",
      "Trainable params: 2,311,331\n",
      "Non-trainable params: 0\n",
      "_________________________________________________________________\n"
     ]
    }
   ],
   "source": [
    "model.summary()"
   ]
  },
  {
   "cell_type": "markdown",
   "metadata": {},
   "source": [
    "# Compile and fit the model"
   ]
  },
  {
   "cell_type": "code",
   "execution_count": 73,
   "metadata": {},
   "outputs": [],
   "source": [
    "bsz = 100\n",
    "num_epochs = 10"
   ]
  },
  {
   "cell_type": "code",
   "execution_count": 72,
   "metadata": {},
   "outputs": [],
   "source": [
    "# We will fit the model using adam as our optimizer, categorical cross entropy as our loss function and accuracy as our metric\n",
    "model.compile(optimizer = 'adam', loss = 'categorical_crossentropy', metrics = ['accuracy'])"
   ]
  },
  {
   "cell_type": "code",
   "execution_count": 74,
   "metadata": {
    "scrolled": true
   },
   "outputs": [
    {
     "name": "stdout",
     "output_type": "stream",
     "text": [
      "WARNING:tensorflow:From C:\\Users\\nayak\\Anaconda3\\lib\\site-packages\\tensorflow\\python\\ops\\math_ops.py:3066: to_int32 (from tensorflow.python.ops.math_ops) is deprecated and will be removed in a future version.\n",
      "Instructions for updating:\n",
      "Use tf.cast instead.\n",
      "Train on 23200 samples, validate on 5800 samples\n",
      "Epoch 1/10\n",
      "23200/23200 [==============================] - 40s 2ms/step - loss: 0.0906 - accuracy: 0.9639\n",
      "Epoch 2/10\n",
      "23200/23200 [==============================] - 38s 2ms/step - loss: 0.0068 - accuracy: 0.9982\n",
      "Epoch 3/10\n",
      "23200/23200 [==============================] - 39s 2ms/step - loss: 0.0018 - accuracy: 0.9996\n",
      "Epoch 4/10\n",
      "23200/23200 [==============================] - 39s 2ms/step - loss: 6.8046e-04 - accuracy: 0.9999\n",
      "Epoch 5/10\n",
      "23200/23200 [==============================] - 43s 2ms/step - loss: 3.7683e-04 - accuracy: 1.0000 - val_loss: 0.0291 - val_accuracy: 0.9941\n",
      "Epoch 6/10\n",
      "23200/23200 [==============================] - 42s 2ms/step - loss: 1.7731e-04 - accuracy: 1.0000 0s - loss: 1.7802e-04 - accuracy: 1.00\n",
      "Epoch 7/10\n",
      "23200/23200 [==============================] - 42s 2ms/step - loss: 0.0183 - accuracy: 0.9956\n",
      "Epoch 8/10\n",
      "23200/23200 [==============================] - 44s 2ms/step - loss: 0.0022 - accuracy: 0.9994\n",
      "Epoch 9/10\n",
      "23200/23200 [==============================] - 46s 2ms/step - loss: 3.9695e-05 - accuracy: 1.0000\n",
      "Epoch 10/10\n",
      "23200/23200 [==============================] - 39s 2ms/step - loss: 8.3948e-06 - accuracy: 1.0000 - val_loss: 0.0201 - val_accuracy: 0.9967\n"
     ]
    },
    {
     "data": {
      "text/plain": [
       "<keras.callbacks.callbacks.History at 0x23c838dd438>"
      ]
     },
     "execution_count": 74,
     "metadata": {},
     "output_type": "execute_result"
    }
   ],
   "source": [
    "# Let's split training data into 80% Training, 20% Validation and evaluate the model performance after every 5 epochs\n",
    "model.fit(pad_train, train_labels, validation_split = 0.2, validation_freq = 5, epochs = num_epochs, batch_size = bsz)"
   ]
  },
  {
   "cell_type": "markdown",
   "metadata": {},
   "source": [
    "# Evaluate the model"
   ]
  },
  {
   "cell_type": "code",
   "execution_count": 103,
   "metadata": {},
   "outputs": [],
   "source": [
    "def evaluate_performance(y_true, y_pred, title, labels):    \n",
    "    data = confusion_matrix(y_true, y_pred)\n",
    "    data = pd.DataFrame(data/np.sum(data), index = labels, columns = labels)\n",
    "    print(data)\n",
    "    akws = {\"ha\": 'center',\"va\": 'center', 'size':15}\n",
    "    sns.heatmap(data, annot = True, annot_kws=akws)\n",
    "    plt.suptitle(title)\n",
    "    plt.xticks(rotation = 90); plt.yticks(rotation = 0)\n",
    "    plt.show()"
   ]
  },
  {
   "cell_type": "code",
   "execution_count": 104,
   "metadata": {},
   "outputs": [
    {
     "name": "stdout",
     "output_type": "stream",
     "text": [
      "Performance on Train data\n",
      "\n",
      "           ham      info      spam\n",
      "ham   0.333103  0.000000  0.000207\n",
      "info  0.000000  0.445379  0.000000\n",
      "spam  0.000414  0.000034  0.220862\n"
     ]
    },
    {
     "data": {
      "image/png": "[encoded data removed]",
      "text/plain": [
       "<Figure size 432x288 with 2 Axes>"
      ]
     },
     "metadata": {
      "needs_background": "light"
     },
     "output_type": "display_data"
    },
    {
     "name": "stdout",
     "output_type": "stream",
     "text": [
      "Performance on Test data\n",
      "\n",
      "        ham   info   spam\n",
      "ham   0.334  0.000  0.000\n",
      "info  0.000  0.459  0.000\n",
      "spam  0.004  0.000  0.203\n"
     ]
    },
    {
     "data": {
      "image/png": "[encoded data removed]",
      "text/plain": [
       "<Figure size 432x288 with 2 Axes>"
      ]
     },
     "metadata": {
      "needs_background": "light"
     },
     "output_type": "display_data"
    }
   ],
   "source": [
    "print(\"Performance on Train data\\n\")\n",
    "\n",
    "y_pred_train = np.argmax(model.predict(pad_train), axis = 1)\n",
    "y_true_train = np.argmax(train_labels, axis = 1)\n",
    "evaluate_performance(y_true_train, y_pred_train, title = 'Train Performance',\n",
    "                     labels = le.classes_)\n",
    "\n",
    "print(\"Performance on Test data\\n\")\n",
    "y_pred_test = np.argmax(model.predict(pad_test), axis = 1)\n",
    "y_true = np.argmax(test_labels, axis = 1)\n",
    "evaluate_performance(y_true, y_pred_test, title = 'Test Performance',\n",
    "                     labels = le.classes_)"
   ]
  },
  {
   "cell_type": "markdown",
   "metadata": {},
   "source": [
    "# Conclusion\n",
    "\n",
    "We saw in this notebook how can convolutional neural networks be used for dealing with text classification and for this relatively small dataset, it performed well.\n",
    "\n",
    "In the next notebook in this repo, we'll see how we can use something better (RNN esp. LSTM) to deal with this task in a better way."
   ]
  }
 ],
 "metadata": {
  "kernelspec": {
   "display_name": "Python 3",
   "language": "python",
   "name": "python3"
  },
  "language_info": {
   "codemirror_mode": {
    "name": "ipython",
    "version": 3
   },
   "file_extension": ".py",
   "mimetype": "text/x-python",
   "name": "python",
   "nbconvert_exporter": "python",
   "pygments_lexer": "ipython3",
   "version": "3.6.8"
  },
  "latex_envs": {
   "LaTeX_envs_menu_present": true,
   "autoclose": false,
   "autocomplete": true,
   "bibliofile": "biblio.bib",
   "cite_by": "apalike",
   "current_citInitial": 1,
   "eqLabelWithNumbers": true,
   "eqNumInitial": 1,
   "hotkeys": {
    "equation": "Ctrl-E",
    "itemize": "Ctrl-I"
   },
   "labels_anchors": false,
   "latex_user_defs": false,
   "report_style_numbering": false,
   "user_envs_cfg": false
  },
  "toc": {
   "base_numbering": 1,
   "nav_menu": {},
   "number_sections": true,
   "sideBar": true,
   "skip_h1_title": false,
   "title_cell": "Table of Contents",
   "title_sidebar": "Contents",
   "toc_cell": false,
   "toc_position": {},
   "toc_section_display": true,
   "toc_window_display": false
  }
 },
 "nbformat": 4,
 "nbformat_minor": 2
}
